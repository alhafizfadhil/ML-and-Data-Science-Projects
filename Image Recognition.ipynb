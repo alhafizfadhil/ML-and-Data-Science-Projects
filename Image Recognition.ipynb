{
  "nbformat": 4,
  "nbformat_minor": 0,
  "metadata": {
    "accelerator": "GPU",
    "colab": {
      "name": "Image Recognition.ipynb",
      "provenance": [],
      "collapsed_sections": [],
      "authorship_tag": "ABX9TyOxWna/jXC36tRZpjfuEg9A",
      "include_colab_link": true
    },
    "kernelspec": {
      "display_name": "Python 3",
      "name": "python3"
    },
    "language_info": {
      "name": "python"
    }
  },
  "cells": [
    {
      "cell_type": "markdown",
      "metadata": {
        "id": "view-in-github",
        "colab_type": "text"
      },
      "source": [
        "<a href=\"https://colab.research.google.com/github/alhafizfadhil/ML-and-Data-Science-Projects/blob/main/Image%20Recognition.ipynb\" target=\"_parent\"><img src=\"https://colab.research.google.com/assets/colab-badge.svg\" alt=\"Open In Colab\"/></a>"
      ]
    },
    {
      "cell_type": "code",
      "metadata": {
        "id": "VDJYEzB3-jG0",
        "colab": {
          "base_uri": "https://localhost:8080/"
        },
        "outputId": "f526dc1b-9fc3-483a-e841-be6f595405ab"
      },
      "source": [
        "import time\n",
        "import numpy as np\n",
        "import matplotlib.pyplot as plt\n",
        "from sklearn import metrics\n",
        "from sklearn.metrics import plot_confusion_matrix\n",
        "import tensorflow as tf\n",
        "from keras.models import Sequential\n",
        "from keras.layers.convolutional import Conv2D\n",
        "from keras.layers.convolutional import MaxPooling2D\n",
        "from keras.layers.core import Activation\n",
        "from keras.layers.core import Flatten\n",
        "from keras.layers.core import Dense\n",
        "from keras.layers.core import Dropout\n",
        "from keras.layers import BatchNormalization\n",
        "from tensorflow.keras.optimizers import Adam\n",
        "\n",
        "\n",
        "fashion_mnist=tf.keras.datasets.fashion_mnist\n",
        "(train_X,train_Y),(test_X,test_Y)=fashion_mnist.load_data()\n",
        "\n",
        "train_X=train_X.reshape(train_X.shape[0], train_X.shape[1], train_X.shape[2], 1)\n",
        "test_X=test_X.reshape(test_X.shape[0], test_X.shape[1], test_X.shape[1], 1)"
      ],
      "execution_count": null,
      "outputs": [
        {
          "output_type": "stream",
          "name": "stdout",
          "text": [
            "Downloading data from https://storage.googleapis.com/tensorflow/tf-keras-datasets/train-labels-idx1-ubyte.gz\n",
            "32768/29515 [=================================] - 0s 0us/step\n",
            "40960/29515 [=========================================] - 0s 0us/step\n",
            "Downloading data from https://storage.googleapis.com/tensorflow/tf-keras-datasets/train-images-idx3-ubyte.gz\n",
            "26427392/26421880 [==============================] - 0s 0us/step\n",
            "26435584/26421880 [==============================] - 0s 0us/step\n",
            "Downloading data from https://storage.googleapis.com/tensorflow/tf-keras-datasets/t10k-labels-idx1-ubyte.gz\n",
            "16384/5148 [===============================================================================================] - 0s 0us/step\n",
            "Downloading data from https://storage.googleapis.com/tensorflow/tf-keras-datasets/t10k-images-idx3-ubyte.gz\n",
            "4423680/4422102 [==============================] - 0s 0us/step\n",
            "4431872/4422102 [==============================] - 0s 0us/step\n"
          ]
        }
      ]
    },
    {
      "cell_type": "code",
      "metadata": {
        "id": "fRhH16wi9qvx"
      },
      "source": [
        "class_names = ['T-shirt/top', \n",
        "          'Trouser',\n",
        "          'Pullover',\n",
        "          'Dress',\n",
        "          'Coat',\n",
        "          'Sandal',\n",
        "          'Shirt',\n",
        "          'Sneaker',\n",
        "          'Bag',\n",
        "          'Ankle boot']"
      ],
      "execution_count": null,
      "outputs": []
    },
    {
      "cell_type": "code",
      "metadata": {
        "id": "gXT8wfFq_vLN"
      },
      "source": [
        "train_label=tf.keras.utils.to_categorical(train_Y,num_classes=10)\n",
        "test_label=tf.keras.utils.to_categorical(test_Y,num_classes=10)\n",
        "\n",
        "#train_data=tf.expand_dims(train_X,-1)\n",
        "#test_data=tf.expand_dims(test_X,-1)"
      ],
      "execution_count": null,
      "outputs": []
    },
    {
      "cell_type": "code",
      "metadata": {
        "id": "4u_WJZl6AgGP"
      },
      "source": [
        "train_input=tf.data.Dataset.from_tensor_slices((train_X,train_label)).batch(80)\n",
        "test_input=tf.data.Dataset.from_tensor_slices((test_X,test_label)).batch(80)\n"
      ],
      "execution_count": null,
      "outputs": []
    },
    {
      "cell_type": "code",
      "metadata": {
        "id": "FQn4-iJz3WMb"
      },
      "source": [
        "input_data=tf.keras.layers.Input([28,28,1])\n"
      ],
      "execution_count": null,
      "outputs": []
    },
    {
      "cell_type": "code",
      "metadata": {
        "colab": {
          "base_uri": "https://localhost:8080/"
        },
        "id": "yv9aVf_ZBVWM",
        "outputId": "6442591a-421e-48c2-a3c2-563512a4b72a"
      },
      "source": [
        "model = Sequential()\n",
        "\n",
        "model.add(Conv2D(32, (3, 3), padding=\"same\", input_shape=(28, 28, 1)))\n",
        "model.add(Activation(\"relu\"))\n",
        "model.add(Conv2D(32, (3, 3), padding=\"same\"))\n",
        "model.add(BatchNormalization())\n",
        "model.add(Activation(\"relu\"))\n",
        "model.add(MaxPooling2D(pool_size=(2, 2)))\n",
        "model.add(Dropout(0.2))\n",
        "\n",
        "model.add(Conv2D(64, (3, 3), padding=\"same\"))\n",
        "model.add(Activation(\"relu\"))\n",
        "model.add(Conv2D(64, (3, 3), padding=\"same\"))\n",
        "model.add(BatchNormalization())\n",
        "model.add(Activation(\"relu\"))\n",
        "model.add(MaxPooling2D(pool_size=(2, 2)))\n",
        "model.add(Dropout(0.4))\n",
        "\n",
        "model.add(Conv2D(128, (3, 3), padding=\"same\"))\n",
        "model.add(Activation(\"relu\"))\n",
        "model.add(BatchNormalization())\n",
        "model.add(MaxPooling2D(pool_size=(2, 2)))\n",
        "model.add(Dropout(0.45))\n",
        "\n",
        "model.add(Conv2D(128, (3, 3), padding=\"same\"))\n",
        "model.add(Activation(\"relu\"))\n",
        "model.add(BatchNormalization())\n",
        "model.add(MaxPooling2D(pool_size=(2, 2)))\n",
        "model.add(Dropout(0.45))\n",
        "\n",
        "model.add(Flatten())\n",
        "model.add(Dense(256))\n",
        "model.add(Activation(\"relu\"))\n",
        "model.add(Dense(128))\n",
        "model.add(Activation(\"relu\"))\n",
        "model.add(BatchNormalization())\n",
        "\n",
        "model.add(Dense(10))\n",
        "model.add(Activation(\"softmax\"))\n",
        "\n",
        "model.summary()\n",
        "opt = Adam(learning_rate=1e-3, decay=1e-3 / 80)\n",
        "model.compile(loss=\"categorical_crossentropy\", optimizer=opt,\n",
        "\tmetrics=[\"accuracy\"])"
      ],
      "execution_count": null,
      "outputs": [
        {
          "output_type": "stream",
          "name": "stdout",
          "text": [
            "Model: \"sequential\"\n",
            "_________________________________________________________________\n",
            " Layer (type)                Output Shape              Param #   \n",
            "=================================================================\n",
            " conv2d (Conv2D)             (None, 28, 28, 32)        320       \n",
            "                                                                 \n",
            " activation (Activation)     (None, 28, 28, 32)        0         \n",
            "                                                                 \n",
            " conv2d_1 (Conv2D)           (None, 28, 28, 32)        9248      \n",
            "                                                                 \n",
            " batch_normalization (BatchN  (None, 28, 28, 32)       128       \n",
            " ormalization)                                                   \n",
            "                                                                 \n",
            " activation_1 (Activation)   (None, 28, 28, 32)        0         \n",
            "                                                                 \n",
            " max_pooling2d (MaxPooling2D  (None, 14, 14, 32)       0         \n",
            " )                                                               \n",
            "                                                                 \n",
            " dropout (Dropout)           (None, 14, 14, 32)        0         \n",
            "                                                                 \n",
            " conv2d_2 (Conv2D)           (None, 14, 14, 64)        18496     \n",
            "                                                                 \n",
            " activation_2 (Activation)   (None, 14, 14, 64)        0         \n",
            "                                                                 \n",
            " conv2d_3 (Conv2D)           (None, 14, 14, 64)        36928     \n",
            "                                                                 \n",
            " batch_normalization_1 (Batc  (None, 14, 14, 64)       256       \n",
            " hNormalization)                                                 \n",
            "                                                                 \n",
            " activation_3 (Activation)   (None, 14, 14, 64)        0         \n",
            "                                                                 \n",
            " max_pooling2d_1 (MaxPooling  (None, 7, 7, 64)         0         \n",
            " 2D)                                                             \n",
            "                                                                 \n",
            " dropout_1 (Dropout)         (None, 7, 7, 64)          0         \n",
            "                                                                 \n",
            " conv2d_4 (Conv2D)           (None, 7, 7, 128)         73856     \n",
            "                                                                 \n",
            " activation_4 (Activation)   (None, 7, 7, 128)         0         \n",
            "                                                                 \n",
            " batch_normalization_2 (Batc  (None, 7, 7, 128)        512       \n",
            " hNormalization)                                                 \n",
            "                                                                 \n",
            " max_pooling2d_2 (MaxPooling  (None, 3, 3, 128)        0         \n",
            " 2D)                                                             \n",
            "                                                                 \n",
            " dropout_2 (Dropout)         (None, 3, 3, 128)         0         \n",
            "                                                                 \n",
            " conv2d_5 (Conv2D)           (None, 3, 3, 128)         147584    \n",
            "                                                                 \n",
            " activation_5 (Activation)   (None, 3, 3, 128)         0         \n",
            "                                                                 \n",
            " batch_normalization_3 (Batc  (None, 3, 3, 128)        512       \n",
            " hNormalization)                                                 \n",
            "                                                                 \n",
            " max_pooling2d_3 (MaxPooling  (None, 1, 1, 128)        0         \n",
            " 2D)                                                             \n",
            "                                                                 \n",
            " dropout_3 (Dropout)         (None, 1, 1, 128)         0         \n",
            "                                                                 \n",
            " flatten (Flatten)           (None, 128)               0         \n",
            "                                                                 \n",
            " dense (Dense)               (None, 256)               33024     \n",
            "                                                                 \n",
            " activation_6 (Activation)   (None, 256)               0         \n",
            "                                                                 \n",
            " dense_1 (Dense)             (None, 128)               32896     \n",
            "                                                                 \n",
            " activation_7 (Activation)   (None, 128)               0         \n",
            "                                                                 \n",
            " batch_normalization_4 (Batc  (None, 128)              512       \n",
            " hNormalization)                                                 \n",
            "                                                                 \n",
            " dense_2 (Dense)             (None, 10)                1290      \n",
            "                                                                 \n",
            " activation_8 (Activation)   (None, 10)                0         \n",
            "                                                                 \n",
            "=================================================================\n",
            "Total params: 355,562\n",
            "Trainable params: 354,602\n",
            "Non-trainable params: 960\n",
            "_________________________________________________________________\n"
          ]
        }
      ]
    },
    {
      "cell_type": "code",
      "metadata": {
        "colab": {
          "base_uri": "https://localhost:8080/"
        },
        "id": "MFoTJlWBEOhc",
        "outputId": "5693d928-a6fb-45d7-dd8e-20b6dcfe1994"
      },
      "source": [
        "start = time.time()\n",
        "\n",
        "model.fit(train_input, epochs=10)\n",
        "\n",
        "end = time.time()\n",
        "cnn_mnist_time = end-start\n",
        "print(\"Total training time is {:0.2f} minute\".format(cnn_mnist_time/60.0))"
      ],
      "execution_count": null,
      "outputs": [
        {
          "output_type": "stream",
          "name": "stdout",
          "text": [
            "Epoch 1/10\n",
            "750/750 [==============================] - 20s 9ms/step - loss: 0.7427 - accuracy: 0.7253\n",
            "Epoch 2/10\n",
            "750/750 [==============================] - 7s 9ms/step - loss: 0.4375 - accuracy: 0.8401\n",
            "Epoch 3/10\n",
            "750/750 [==============================] - 7s 9ms/step - loss: 0.3609 - accuracy: 0.8694\n",
            "Epoch 4/10\n",
            "750/750 [==============================] - 7s 9ms/step - loss: 0.3218 - accuracy: 0.8830\n",
            "Epoch 5/10\n",
            "750/750 [==============================] - 7s 9ms/step - loss: 0.2937 - accuracy: 0.8937\n",
            "Epoch 6/10\n",
            "750/750 [==============================] - 7s 10ms/step - loss: 0.2789 - accuracy: 0.8978\n",
            "Epoch 7/10\n",
            "750/750 [==============================] - 7s 9ms/step - loss: 0.2655 - accuracy: 0.9045\n",
            "Epoch 8/10\n",
            "750/750 [==============================] - 7s 9ms/step - loss: 0.2536 - accuracy: 0.9075\n",
            "Epoch 9/10\n",
            "750/750 [==============================] - 7s 9ms/step - loss: 0.2433 - accuracy: 0.9121\n",
            "Epoch 10/10\n",
            "750/750 [==============================] - 7s 9ms/step - loss: 0.2359 - accuracy: 0.9142\n",
            "Total training time is 1.69 minute\n"
          ]
        }
      ]
    },
    {
      "cell_type": "code",
      "metadata": {
        "colab": {
          "base_uri": "https://localhost:8080/"
        },
        "id": "d84PEjlF5Tgg",
        "outputId": "ed4d65ab-2026-444a-ca38-2c6e098c8b8f"
      },
      "source": [
        "model.evaluate(test_input)"
      ],
      "execution_count": null,
      "outputs": [
        {
          "output_type": "stream",
          "name": "stdout",
          "text": [
            "125/125 [==============================] - 1s 5ms/step - loss: 0.2248 - accuracy: 0.9203\n"
          ]
        },
        {
          "output_type": "execute_result",
          "data": {
            "text/plain": [
              "[0.224784716963768, 0.9203000068664551]"
            ]
          },
          "metadata": {},
          "execution_count": 10
        }
      ]
    },
    {
      "cell_type": "code",
      "metadata": {
        "colab": {
          "base_uri": "https://localhost:8080/"
        },
        "id": "pXX7FTL5DVeO",
        "outputId": "949ab604-2d74-474b-febe-1d20345ee546"
      },
      "source": [
        "cnn_pred_mnist = model.predict(test_X)\n",
        "cnn_pred_mnist = np.argmax(cnn_pred_mnist,axis=1)\n",
        "y_true = np.argmax(test_label,axis=1)\n",
        "\n",
        "cnn_f1_mnist = metrics.f1_score(y_true, cnn_pred_mnist, average= \"weighted\")\n",
        "cnn_accuracy_mnist = metrics.accuracy_score(y_true, cnn_pred_mnist)\n",
        "cnn_cm_mnist = metrics.confusion_matrix(y_true, cnn_pred_mnist)\n",
        "\n",
        "print(\"-----------------Convolutional Neural Network Report---------------\")\n",
        "print(\"F1 score: {}\".format(cnn_f1_mnist))\n",
        "print(\"Accuracy score: {}\".format(cnn_accuracy_mnist))\n",
        "print(\"Confusion matrix: \\n\", cnn_cm_mnist)\n",
        "print('\\n', metrics.classification_report(y_true, cnn_pred_mnist))"
      ],
      "execution_count": null,
      "outputs": [
        {
          "output_type": "stream",
          "text": [
            "-----------------Convolutional Neural Network Report---------------\n",
            "F1 score: 0.9128509350794427\n",
            "Accuracy score: 0.9124\n",
            "Confusion matrix: \n",
            " [[806   0  18  22   5   1 145   0   3   0]\n",
            " [  0 980   0  15   2   0   2   0   1   0]\n",
            " [ 10   1 796   8 120   0  65   0   0   0]\n",
            " [  4   1   6 931  34   0  24   0   0   0]\n",
            " [  0   0   6  18 938   0  38   0   0   0]\n",
            " [  0   0   0   0   0 970   0  18   0  12]\n",
            " [ 57   0  38  34  87   0 781   0   3   0]\n",
            " [  0   0   0   0   0   3   0 968   0  29]\n",
            " [  0   0   0   5   5   2  11   1 976   0]\n",
            " [  0   0   0   0   0   3   0  18   1 978]]\n",
            "\n",
            "               precision    recall  f1-score   support\n",
            "\n",
            "           0       0.92      0.81      0.86      1000\n",
            "           1       1.00      0.98      0.99      1000\n",
            "           2       0.92      0.80      0.85      1000\n",
            "           3       0.90      0.93      0.92      1000\n",
            "           4       0.79      0.94      0.86      1000\n",
            "           5       0.99      0.97      0.98      1000\n",
            "           6       0.73      0.78      0.76      1000\n",
            "           7       0.96      0.97      0.97      1000\n",
            "           8       0.99      0.98      0.98      1000\n",
            "           9       0.96      0.98      0.97      1000\n",
            "\n",
            "    accuracy                           0.91     10000\n",
            "   macro avg       0.92      0.91      0.91     10000\n",
            "weighted avg       0.92      0.91      0.91     10000\n",
            "\n"
          ],
          "name": "stdout"
        }
      ]
    },
    {
      "cell_type": "code",
      "metadata": {
        "id": "y9uoAnWu9b-t"
      },
      "source": [
        "class estimator:\n",
        "  _estimator_type = ''\n",
        "  classes_=[]\n",
        "  def __init__(self, model, classes):\n",
        "    self.model = model\n",
        "    self._estimator_type = 'classifier'\n",
        "    self.classes_ = classes\n",
        "  def predict(self, X):\n",
        "    y_prob= self.model.predict(X)\n",
        "    y_pred = y_prob.argmax(axis=1)\n",
        "    return y_pred\n",
        "\n",
        "classifier = estimator(model, class_names)"
      ],
      "execution_count": null,
      "outputs": []
    },
    {
      "cell_type": "code",
      "metadata": {
        "colab": {
          "base_uri": "https://localhost:8080/",
          "height": 761
        },
        "id": "OMa6uQ6s7dX4",
        "outputId": "2cd1b936-6271-489d-eef1-f77a5d3caeae"
      },
      "source": [
        "#plt.figure()\n",
        "#plot_confusion_matrix(classifier, X=test_X, y_true=test_Y)\n",
        "#plt.show()\n",
        "\n",
        "figsize = (12,12)\n",
        "plot_confusion_matrix(classifier, X=test_X, y_true=test_Y, cmap='GnBu', normalize='true', ax=plt.subplots(figsize=figsize)[1])"
      ],
      "execution_count": null,
      "outputs": [
        {
          "output_type": "stream",
          "name": "stderr",
          "text": [
            "/usr/local/lib/python3.7/dist-packages/sklearn/utils/deprecation.py:87: FutureWarning: Function plot_confusion_matrix is deprecated; Function `plot_confusion_matrix` is deprecated in 1.0 and will be removed in 1.2. Use one of the class methods: ConfusionMatrixDisplay.from_predictions or ConfusionMatrixDisplay.from_estimator.\n",
            "  warnings.warn(msg, category=FutureWarning)\n"
          ]
        },
        {
          "output_type": "execute_result",
          "data": {
            "text/plain": [
              "<sklearn.metrics._plot.confusion_matrix.ConfusionMatrixDisplay at 0x7f987e28c710>"
            ]
          },
          "metadata": {},
          "execution_count": 12
        },
        {
          "output_type": "display_data",
          "data": {
            "text/plain": [
              "<Figure size 864x864 with 2 Axes>"
            ],
            "image/png": "[encoded data removed]"
          },
          "metadata": {
            "needs_background": "light"
          }
        }
      ]
    },
    {
      "cell_type": "code",
      "source": [
        "print(test_Y)"
      ],
      "metadata": {
        "id": "ux1SW3GxgeHX",
        "outputId": "81263a0c-7c18-4aff-bce5-3dd8e45f7432",
        "colab": {
          "base_uri": "https://localhost:8080/"
        }
      },
      "execution_count": null,
      "outputs": [
        {
          "output_type": "stream",
          "name": "stdout",
          "text": [
            "[9 2 1 ... 8 1 5]\n"
          ]
        }
      ]
    }
  ]
}